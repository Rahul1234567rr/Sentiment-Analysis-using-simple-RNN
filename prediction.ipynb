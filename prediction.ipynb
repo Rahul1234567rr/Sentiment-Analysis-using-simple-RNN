{
 "cells": [
  {
   "cell_type": "code",
   "execution_count": 1,
   "metadata": {},
   "outputs": [],
   "source": [
    "# Step 1: Import Libraries and Load the Model\n",
    "import numpy as np\n",
    "import tensorflow as tf\n",
    "from tensorflow.keras.datasets import imdb\n",
    "from tensorflow.keras.preprocessing import sequence\n",
    "from tensorflow.keras.models import load_model"
   ]
  },
  {
   "cell_type": "code",
   "execution_count": 2,
   "metadata": {},
   "outputs": [],
   "source": [
    "\n",
    "# Load the IMDB dataset word index\n",
    "word_index = imdb.get_word_index()\n",
    "reverse_word_index = {value: key for key, value in word_index.items()}"
   ]
  },
  {
   "cell_type": "code",
   "execution_count": 8,
   "metadata": {},
   "outputs": [
    {
     "name": "stderr",
     "output_type": "stream",
     "text": [
      "WARNING:absl:Compiled the loaded model, but the compiled metrics have yet to be built. `model.compile_metrics` will be empty until you train or evaluate the model.\n"
     ]
    },
    {
     "data": {
      "text/html": [
       "<pre style=\"white-space:pre;overflow-x:auto;line-height:normal;font-family:Menlo,'DejaVu Sans Mono',consolas,'Courier New',monospace\"><span style=\"font-weight: bold\">Model: \"sequential\"</span>\n",
       "</pre>\n"
      ],
      "text/plain": [
       "\u001b[1mModel: \"sequential\"\u001b[0m\n"
      ]
     },
     "metadata": {},
     "output_type": "display_data"
    },
    {
     "data": {
      "text/html": [
       "<pre style=\"white-space:pre;overflow-x:auto;line-height:normal;font-family:Menlo,'DejaVu Sans Mono',consolas,'Courier New',monospace\">┏━━━━━━━━━━━━━━━━━━━━━━━━━━━━━━━━━┳━━━━━━━━━━━━━━━━━━━━━━━━┳━━━━━━━━━━━━━━━┓\n",
       "┃<span style=\"font-weight: bold\"> Layer (type)                    </span>┃<span style=\"font-weight: bold\"> Output Shape           </span>┃<span style=\"font-weight: bold\">       Param # </span>┃\n",
       "┡━━━━━━━━━━━━━━━━━━━━━━━━━━━━━━━━━╇━━━━━━━━━━━━━━━━━━━━━━━━╇━━━━━━━━━━━━━━━┩\n",
       "│ embedding (<span style=\"color: #0087ff; text-decoration-color: #0087ff\">Embedding</span>)           │ (<span style=\"color: #00af00; text-decoration-color: #00af00\">32</span>, <span style=\"color: #00af00; text-decoration-color: #00af00\">500</span>, <span style=\"color: #00af00; text-decoration-color: #00af00\">128</span>)         │     <span style=\"color: #00af00; text-decoration-color: #00af00\">1,280,000</span> │\n",
       "├─────────────────────────────────┼────────────────────────┼───────────────┤\n",
       "│ simple_rnn (<span style=\"color: #0087ff; text-decoration-color: #0087ff\">SimpleRNN</span>)          │ (<span style=\"color: #00af00; text-decoration-color: #00af00\">32</span>, <span style=\"color: #00af00; text-decoration-color: #00af00\">128</span>)              │        <span style=\"color: #00af00; text-decoration-color: #00af00\">32,896</span> │\n",
       "├─────────────────────────────────┼────────────────────────┼───────────────┤\n",
       "│ dense (<span style=\"color: #0087ff; text-decoration-color: #0087ff\">Dense</span>)                   │ (<span style=\"color: #00af00; text-decoration-color: #00af00\">32</span>, <span style=\"color: #00af00; text-decoration-color: #00af00\">1</span>)                │           <span style=\"color: #00af00; text-decoration-color: #00af00\">129</span> │\n",
       "└─────────────────────────────────┴────────────────────────┴───────────────┘\n",
       "</pre>\n"
      ],
      "text/plain": [
       "┏━━━━━━━━━━━━━━━━━━━━━━━━━━━━━━━━━┳━━━━━━━━━━━━━━━━━━━━━━━━┳━━━━━━━━━━━━━━━┓\n",
       "┃\u001b[1m \u001b[0m\u001b[1mLayer (type)                   \u001b[0m\u001b[1m \u001b[0m┃\u001b[1m \u001b[0m\u001b[1mOutput Shape          \u001b[0m\u001b[1m \u001b[0m┃\u001b[1m \u001b[0m\u001b[1m      Param #\u001b[0m\u001b[1m \u001b[0m┃\n",
       "┡━━━━━━━━━━━━━━━━━━━━━━━━━━━━━━━━━╇━━━━━━━━━━━━━━━━━━━━━━━━╇━━━━━━━━━━━━━━━┩\n",
       "│ embedding (\u001b[38;5;33mEmbedding\u001b[0m)           │ (\u001b[38;5;34m32\u001b[0m, \u001b[38;5;34m500\u001b[0m, \u001b[38;5;34m128\u001b[0m)         │     \u001b[38;5;34m1,280,000\u001b[0m │\n",
       "├─────────────────────────────────┼────────────────────────┼───────────────┤\n",
       "│ simple_rnn (\u001b[38;5;33mSimpleRNN\u001b[0m)          │ (\u001b[38;5;34m32\u001b[0m, \u001b[38;5;34m128\u001b[0m)              │        \u001b[38;5;34m32,896\u001b[0m │\n",
       "├─────────────────────────────────┼────────────────────────┼───────────────┤\n",
       "│ dense (\u001b[38;5;33mDense\u001b[0m)                   │ (\u001b[38;5;34m32\u001b[0m, \u001b[38;5;34m1\u001b[0m)                │           \u001b[38;5;34m129\u001b[0m │\n",
       "└─────────────────────────────────┴────────────────────────┴───────────────┘\n"
      ]
     },
     "metadata": {},
     "output_type": "display_data"
    },
    {
     "data": {
      "text/html": [
       "<pre style=\"white-space:pre;overflow-x:auto;line-height:normal;font-family:Menlo,'DejaVu Sans Mono',consolas,'Courier New',monospace\"><span style=\"font-weight: bold\"> Total params: </span><span style=\"color: #00af00; text-decoration-color: #00af00\">1,313,027</span> (5.01 MB)\n",
       "</pre>\n"
      ],
      "text/plain": [
       "\u001b[1m Total params: \u001b[0m\u001b[38;5;34m1,313,027\u001b[0m (5.01 MB)\n"
      ]
     },
     "metadata": {},
     "output_type": "display_data"
    },
    {
     "data": {
      "text/html": [
       "<pre style=\"white-space:pre;overflow-x:auto;line-height:normal;font-family:Menlo,'DejaVu Sans Mono',consolas,'Courier New',monospace\"><span style=\"font-weight: bold\"> Trainable params: </span><span style=\"color: #00af00; text-decoration-color: #00af00\">1,313,025</span> (5.01 MB)\n",
       "</pre>\n"
      ],
      "text/plain": [
       "\u001b[1m Trainable params: \u001b[0m\u001b[38;5;34m1,313,025\u001b[0m (5.01 MB)\n"
      ]
     },
     "metadata": {},
     "output_type": "display_data"
    },
    {
     "data": {
      "text/html": [
       "<pre style=\"white-space:pre;overflow-x:auto;line-height:normal;font-family:Menlo,'DejaVu Sans Mono',consolas,'Courier New',monospace\"><span style=\"font-weight: bold\"> Non-trainable params: </span><span style=\"color: #00af00; text-decoration-color: #00af00\">0</span> (0.00 B)\n",
       "</pre>\n"
      ],
      "text/plain": [
       "\u001b[1m Non-trainable params: \u001b[0m\u001b[38;5;34m0\u001b[0m (0.00 B)\n"
      ]
     },
     "metadata": {},
     "output_type": "display_data"
    },
    {
     "data": {
      "text/html": [
       "<pre style=\"white-space:pre;overflow-x:auto;line-height:normal;font-family:Menlo,'DejaVu Sans Mono',consolas,'Courier New',monospace\"><span style=\"font-weight: bold\"> Optimizer params: </span><span style=\"color: #00af00; text-decoration-color: #00af00\">2</span> (12.00 B)\n",
       "</pre>\n"
      ],
      "text/plain": [
       "\u001b[1m Optimizer params: \u001b[0m\u001b[38;5;34m2\u001b[0m (12.00 B)\n"
      ]
     },
     "metadata": {},
     "output_type": "display_data"
    }
   ],
   "source": [
    "# Load the pre-trained model with ReLU activation\n",
    "model = load_model('simple_rnn_imdbs.h5')\n",
    "model.summary()"
   ]
  },
  {
   "cell_type": "code",
   "execution_count": 9,
   "metadata": {},
   "outputs": [
    {
     "data": {
      "text/plain": [
       "[array([[-0.9977031 ,  0.1789432 , -0.61589617, ..., -0.10325417,\n",
       "         -0.4923363 ,  0.1008983 ],\n",
       "        [-0.0159876 ,  0.05767218, -0.05559951, ...,  0.12564166,\n",
       "         -0.06525682, -0.02821989],\n",
       "        [ 0.01215428, -0.05436564,  0.09010135, ...,  0.07171422,\n",
       "          0.01726942, -0.08741117],\n",
       "        ...,\n",
       "        [ 0.09210438, -0.07213147,  0.03297958, ..., -0.08342198,\n",
       "          0.04511676,  0.13034075],\n",
       "        [ 0.002268  , -0.01370627, -0.02943803, ...,  0.05041249,\n",
       "          0.00662483, -0.06239175],\n",
       "        [-0.05568083,  0.05565273, -0.15435915, ..., -0.14451684,\n",
       "         -0.08799879,  0.1294144 ]], dtype=float32),\n",
       " array([[-0.09535955,  0.06481685,  0.07047023, ...,  0.05987934,\n",
       "         -0.09617154,  0.0446921 ],\n",
       "        [ 0.03159701,  0.12236059,  0.10044836, ...,  0.03569992,\n",
       "          0.1726747 ,  0.19740838],\n",
       "        [-0.0514595 ,  0.0641029 ,  0.09635804, ..., -0.05236325,\n",
       "         -0.13791336, -0.13968404],\n",
       "        ...,\n",
       "        [-0.17413242,  0.13681132,  0.07139805, ...,  0.09449377,\n",
       "          0.08129483, -0.10974701],\n",
       "        [ 0.03986863, -0.06715145, -0.06282888, ..., -0.1473222 ,\n",
       "         -0.05584044, -0.02307108],\n",
       "        [-0.04855866,  0.12882721, -0.01941195, ..., -0.07059141,\n",
       "         -0.10031556, -0.06037712]], dtype=float32),\n",
       " array([[-0.06588663,  0.1779394 , -0.18294173, ...,  0.16087933,\n",
       "         -0.06213246, -0.19039848],\n",
       "        [ 0.03977132, -0.02514896,  0.01461486, ..., -0.04807471,\n",
       "          0.01887975,  0.13681108],\n",
       "        [-0.05102655,  0.01689082,  0.00652766, ..., -0.05366084,\n",
       "          0.17274033, -0.02626997],\n",
       "        ...,\n",
       "        [-0.02664887,  0.05690001, -0.02320767, ...,  0.2668983 ,\n",
       "         -0.11925147, -0.00716734],\n",
       "        [-0.03036301,  0.11821891,  0.04305398, ..., -0.05172753,\n",
       "          0.02680727,  0.28116888],\n",
       "        [ 0.13534002, -0.11630023, -0.07298469, ...,  0.20970856,\n",
       "          0.07121006, -0.02722857]], dtype=float32),\n",
       " array([-0.03396535, -0.02661905, -0.04232309,  0.06157904, -0.01720983,\n",
       "        -0.01139587,  0.01549058, -0.06260316,  0.05841355, -0.03584336,\n",
       "        -0.04218673, -0.06955909, -0.02859886, -0.03568304,  0.00819602,\n",
       "         0.05092562,  0.02113136, -0.02480828,  0.06216757,  0.02048233,\n",
       "        -0.0193365 ,  0.00934237,  0.03288073, -0.01376848, -0.03295765,\n",
       "        -0.00343473, -0.00412768,  0.01613171,  0.00486396, -0.04591932,\n",
       "        -0.05668224, -0.00914541,  0.00235236, -0.01593372, -0.04684186,\n",
       "        -0.00426135, -0.01737409,  0.01044295, -0.07872366, -0.06247247,\n",
       "        -0.05727892,  0.05113884, -0.01517924, -0.07525937,  0.01000592,\n",
       "        -0.02517418,  0.0038854 , -0.05793799, -0.03588276, -0.05870477,\n",
       "         0.01011879, -0.00926337, -0.00715006,  0.00650154,  0.04710845,\n",
       "         0.05216293, -0.02495856,  0.03952453,  0.00532232,  0.03576668,\n",
       "        -0.01083407, -0.03545586, -0.04039098, -0.03495066, -0.00784558,\n",
       "        -0.01172817, -0.00731482, -0.02810314, -0.03552762,  0.03578074,\n",
       "        -0.02594768,  0.00121546,  0.01986477, -0.05085383,  0.00730369,\n",
       "        -0.05349241, -0.03012143,  0.0483332 ,  0.0448843 , -0.00243856,\n",
       "         0.04801083, -0.04364263,  0.03910241, -0.03374824, -0.07119381,\n",
       "        -0.06859504, -0.03151901,  0.05690419,  0.02186103, -0.04575919,\n",
       "         0.03141522, -0.04161737, -0.05199641,  0.01252767,  0.01124751,\n",
       "        -0.02478435, -0.04876442,  0.00542978, -0.02860907, -0.01620866,\n",
       "         0.01774129, -0.01176011, -0.05263415,  0.06112681, -0.03794575,\n",
       "        -0.01070002, -0.04788709,  0.00367073, -0.01490153, -0.00204367,\n",
       "         0.01258314, -0.023982  , -0.05518829, -0.03353791,  0.01532588,\n",
       "        -0.02957466, -0.02437677, -0.02576057,  0.01525425, -0.01731005,\n",
       "        -0.05725235,  0.06503663, -0.01037498,  0.03003701, -0.023071  ,\n",
       "         0.03492642, -0.04573639, -0.05116311], dtype=float32),\n",
       " array([[-0.06352142],\n",
       "        [ 0.15385321],\n",
       "        [-0.15572381],\n",
       "        [-0.12376391],\n",
       "        [-0.08202793],\n",
       "        [ 0.10092468],\n",
       "        [ 0.13344677],\n",
       "        [ 0.05294538],\n",
       "        [ 0.04892437],\n",
       "        [ 0.33677134],\n",
       "        [-0.22149317],\n",
       "        [-0.10452858],\n",
       "        [ 0.06283916],\n",
       "        [-0.19139946],\n",
       "        [ 0.13236235],\n",
       "        [-0.2622358 ],\n",
       "        [ 0.17788583],\n",
       "        [-0.05207072],\n",
       "        [-0.0023747 ],\n",
       "        [ 0.16795406],\n",
       "        [ 0.31542832],\n",
       "        [-0.06073827],\n",
       "        [-0.00871294],\n",
       "        [-0.12954763],\n",
       "        [-0.05118856],\n",
       "        [ 0.1393178 ],\n",
       "        [ 0.18776967],\n",
       "        [ 0.0586071 ],\n",
       "        [ 0.15364148],\n",
       "        [-0.28694424],\n",
       "        [-0.03435365],\n",
       "        [ 0.10016637],\n",
       "        [-0.08249489],\n",
       "        [ 0.05876083],\n",
       "        [-0.22547211],\n",
       "        [-0.22785358],\n",
       "        [ 0.03159684],\n",
       "        [ 0.31162158],\n",
       "        [ 0.10246235],\n",
       "        [-0.05625881],\n",
       "        [ 0.06965785],\n",
       "        [-0.0988074 ],\n",
       "        [-0.12361624],\n",
       "        [-0.23771366],\n",
       "        [-0.22947504],\n",
       "        [-0.09172718],\n",
       "        [ 0.16331096],\n",
       "        [ 0.08591955],\n",
       "        [ 0.11431614],\n",
       "        [-0.2126247 ],\n",
       "        [ 0.18578877],\n",
       "        [-0.03035754],\n",
       "        [ 0.336302  ],\n",
       "        [ 0.33824307],\n",
       "        [-0.14811875],\n",
       "        [-0.19552544],\n",
       "        [ 0.02362337],\n",
       "        [ 0.07501689],\n",
       "        [-0.17431018],\n",
       "        [-0.03255349],\n",
       "        [ 0.14604425],\n",
       "        [ 0.01068026],\n",
       "        [ 0.11276675],\n",
       "        [ 0.13073061],\n",
       "        [ 0.21204096],\n",
       "        [ 0.18212116],\n",
       "        [-0.03352981],\n",
       "        [-0.10769297],\n",
       "        [ 0.4637211 ],\n",
       "        [-0.09883579],\n",
       "        [ 0.183141  ],\n",
       "        [ 0.04340716],\n",
       "        [ 0.15568681],\n",
       "        [-0.3659625 ],\n",
       "        [ 0.12682557],\n",
       "        [ 0.20855388],\n",
       "        [-0.0228703 ],\n",
       "        [-0.21881033],\n",
       "        [-0.18396607],\n",
       "        [ 0.1553144 ],\n",
       "        [-0.03015594],\n",
       "        [-0.11910918],\n",
       "        [ 0.1370252 ],\n",
       "        [-0.02876232],\n",
       "        [ 0.04032586],\n",
       "        [ 1.716344  ],\n",
       "        [ 0.31026575],\n",
       "        [ 0.18973294],\n",
       "        [-0.16033769],\n",
       "        [ 0.03571662],\n",
       "        [-0.05220022],\n",
       "        [-0.1320281 ],\n",
       "        [ 0.09419962],\n",
       "        [-0.07967184],\n",
       "        [-0.02525826],\n",
       "        [ 0.05864471],\n",
       "        [-0.1701906 ],\n",
       "        [-0.06293789],\n",
       "        [-0.06519103],\n",
       "        [ 0.10745766],\n",
       "        [-0.14693505],\n",
       "        [ 0.18190306],\n",
       "        [-0.19346675],\n",
       "        [-0.28520253],\n",
       "        [ 0.135274  ],\n",
       "        [ 0.00220452],\n",
       "        [ 0.30206946],\n",
       "        [-0.1630838 ],\n",
       "        [-0.16196425],\n",
       "        [-0.09003004],\n",
       "        [ 0.03696869],\n",
       "        [-0.07333977],\n",
       "        [ 0.05771391],\n",
       "        [ 0.10951914],\n",
       "        [ 0.06957786],\n",
       "        [-0.04337762],\n",
       "        [ 0.06140089],\n",
       "        [-0.02289019],\n",
       "        [ 0.10742148],\n",
       "        [ 0.01602076],\n",
       "        [ 0.01143153],\n",
       "        [-0.14706092],\n",
       "        [-0.10674493],\n",
       "        [-0.01471353],\n",
       "        [-0.23270293],\n",
       "        [ 0.17069013],\n",
       "        [-0.38768902],\n",
       "        [-0.03894896]], dtype=float32),\n",
       " array([1.5954052], dtype=float32)]"
      ]
     },
     "execution_count": 9,
     "metadata": {},
     "output_type": "execute_result"
    }
   ],
   "source": [
    "model.get_weights()"
   ]
  },
  {
   "cell_type": "code",
   "execution_count": 10,
   "metadata": {},
   "outputs": [],
   "source": [
    "# Step 2: Helper Functions\n",
    "# Function to decode reviews\n",
    "def decode_review(encoded_review):\n",
    "    return ' '.join([reverse_word_index.get(i - 3, '?') for i in encoded_review])\n",
    "\n",
    "# Function to preprocess user input\n",
    "def preprocess_text(text):\n",
    "    words = text.lower().split()\n",
    "    encoded_review = [word_index.get(word, 2) + 3 for word in words]\n",
    "    padded_review = sequence.pad_sequences([encoded_review], maxlen=500)\n",
    "    return padded_review"
   ]
  },
  {
   "cell_type": "code",
   "execution_count": 11,
   "metadata": {},
   "outputs": [],
   "source": [
    "### Prediction  function\n",
    "\n",
    "def predict_sentiment(review):\n",
    "    preprocessed_input=preprocess_text(review)\n",
    "\n",
    "    prediction=model.predict(preprocessed_input)\n",
    "\n",
    "    sentiment = 'Positive' if prediction[0][0] > 0.5 else 'Negative'\n",
    "    \n",
    "    return sentiment, prediction[0][0]\n",
    "\n"
   ]
  },
  {
   "cell_type": "code",
   "execution_count": 12,
   "metadata": {},
   "outputs": [
    {
     "name": "stdout",
     "output_type": "stream",
     "text": [
      "\u001b[1m1/1\u001b[0m \u001b[32m━━━━━━━━━━━━━━━━━━━━\u001b[0m\u001b[37m\u001b[0m \u001b[1m0s\u001b[0m 157ms/step\n",
      "Review: This movie was fantastic! The acting was great and the plot was thrilling.\n",
      "Sentiment: Positive\n",
      "Prediction Score: 0.6089650392532349\n"
     ]
    }
   ],
   "source": [
    "# Step 4: User Input and Prediction\n",
    "# Example review for prediction\n",
    "example_review = \"This movie was fantastic! The acting was great and the plot was thrilling.\"\n",
    "\n",
    "sentiment,score=predict_sentiment(example_review)\n",
    "\n",
    "print(f'Review: {example_review}')\n",
    "print(f'Sentiment: {sentiment}')\n",
    "print(f'Prediction Score: {score}')"
   ]
  },
  {
   "cell_type": "code",
   "execution_count": null,
   "metadata": {},
   "outputs": [],
   "source": []
  },
  {
   "cell_type": "code",
   "execution_count": null,
   "metadata": {},
   "outputs": [],
   "source": []
  },
  {
   "cell_type": "code",
   "execution_count": null,
   "metadata": {},
   "outputs": [],
   "source": []
  },
  {
   "cell_type": "code",
   "execution_count": null,
   "metadata": {},
   "outputs": [],
   "source": []
  }
 ],
 "metadata": {
  "kernelspec": {
   "display_name": "Python 3",
   "language": "python",
   "name": "python3"
  },
  "language_info": {
   "codemirror_mode": {
    "name": "ipython",
    "version": 3
   },
   "file_extension": ".py",
   "mimetype": "text/x-python",
   "name": "python",
   "nbconvert_exporter": "python",
   "pygments_lexer": "ipython3",
   "version": "3.12.2"
  }
 },
 "nbformat": 4,
 "nbformat_minor": 2
}
